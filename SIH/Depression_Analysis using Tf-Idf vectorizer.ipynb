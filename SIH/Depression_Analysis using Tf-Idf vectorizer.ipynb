{
 "cells": [
  {
   "cell_type": "markdown",
   "id": "a1ee0cb6",
   "metadata": {},
   "source": [
    "# DEPRESSION ANALYSIS"
   ]
  },
  {
   "cell_type": "code",
   "execution_count": 3,
   "id": "06740032",
   "metadata": {},
   "outputs": [
    {
     "ename": "ModuleNotFoundError",
     "evalue": "No module named 'pandas'",
     "output_type": "error",
     "traceback": [
      "\u001b[0;31m---------------------------------------------------------------------------\u001b[0m",
      "\u001b[0;31mModuleNotFoundError\u001b[0m                       Traceback (most recent call last)",
      "Input \u001b[0;32mIn [3]\u001b[0m, in \u001b[0;36m<cell line: 1>\u001b[0;34m()\u001b[0m\n\u001b[0;32m----> 1\u001b[0m \u001b[38;5;28;01mimport\u001b[39;00m \u001b[38;5;21;01mpandas\u001b[39;00m \u001b[38;5;28;01mas\u001b[39;00m \u001b[38;5;21;01mpd\u001b[39;00m\n\u001b[1;32m      2\u001b[0m \u001b[38;5;28;01mimport\u001b[39;00m \u001b[38;5;21;01mseaborn\u001b[39;00m \u001b[38;5;28;01mas\u001b[39;00m \u001b[38;5;21;01msns\u001b[39;00m\n",
      "\u001b[0;31mModuleNotFoundError\u001b[0m: No module named 'pandas'"
     ]
    }
   ],
   "source": [
    "import pandas as pd\n",
    "import seaborn as sns"
   ]
  },
  {
   "cell_type": "code",
   "execution_count": null,
   "id": "8a1a3b81",
   "metadata": {},
   "outputs": [],
   "source": [
    "df = pd.read_csv(\"depression_data.csv\")\n",
    "df.head(10)"
   ]
  },
  {
   "cell_type": "code",
   "execution_count": null,
   "id": "422bbb38",
   "metadata": {},
   "outputs": [],
   "source": [
    "df['message'].iloc[:1]"
   ]
  },
  {
   "cell_type": "code",
   "execution_count": null,
   "id": "fc0ca5c0",
   "metadata": {},
   "outputs": [],
   "source": [
    "df.columns"
   ]
  },
  {
   "cell_type": "code",
   "execution_count": null,
   "id": "3eb707df",
   "metadata": {},
   "outputs": [],
   "source": [
    "df = df.drop('Unnamed: 0',axis=1)"
   ]
  },
  {
   "cell_type": "code",
   "execution_count": null,
   "id": "c213d35c",
   "metadata": {},
   "outputs": [],
   "source": [
    "df"
   ]
  },
  {
   "cell_type": "code",
   "execution_count": null,
   "id": "065fe07c",
   "metadata": {},
   "outputs": [],
   "source": [
    "df.shape"
   ]
  },
  {
   "cell_type": "markdown",
   "id": "2cf40d0f",
   "metadata": {},
   "source": [
    "### VISUALIZING THE DATA "
   ]
  },
  {
   "cell_type": "code",
   "execution_count": null,
   "id": "6dc75166",
   "metadata": {},
   "outputs": [],
   "source": [
    "sns.countplot(df['label']) "
   ]
  },
  {
   "cell_type": "markdown",
   "id": "424e4f83",
   "metadata": {},
   "source": [
    "## Data preprocessing: \n",
    "## 1. Convert to lower case\n",
    "## 2. Do Lemmatization "
   ]
  },
  {
   "cell_type": "code",
   "execution_count": null,
   "id": "1cb4975c",
   "metadata": {},
   "outputs": [],
   "source": [
    "import re\n",
    "from nltk.stem import PorterStemmer,WordNetLemmatizer\n",
    "from nltk.corpus import stopwords\n",
    "wo = WordNetLemmatizer()\n",
    "corpus=[]\n",
    "for i in range(0,len(df)):\n",
    "    message = re.sub('[^a-zA-Z]',' ',df['message'][i])\n",
    "    message = message.lower()\n",
    "    message = message.split()\n",
    "    message = [wo.lemmatize(word) for word in message ]\n",
    "    message = ' '.join(message)\n",
    "    corpus.append(message)"
   ]
  },
  {
   "cell_type": "code",
   "execution_count": null,
   "id": "c7323014",
   "metadata": {},
   "outputs": [],
   "source": [
    "corpus[2]"
   ]
  },
  {
   "cell_type": "markdown",
   "id": "8634fe2a",
   "metadata": {},
   "source": [
    "### IMPORTING THE REQUIRED LIBRARIES FOR WORDS INITILIAZATION"
   ]
  },
  {
   "cell_type": "code",
   "execution_count": null,
   "id": "13a9a16c",
   "metadata": {},
   "outputs": [],
   "source": [
    "from wordcloud import WordCloud\n",
    "import matplotlib.pyplot as plt"
   ]
  },
  {
   "cell_type": "code",
   "execution_count": null,
   "id": "df1e11ca",
   "metadata": {},
   "outputs": [],
   "source": [
    "depressive_words = ' '.join(list(df[df['label'] == 1]['message']))\n",
    "depressive_wc = WordCloud(width = 512,height = 512, collocations=False, colormap=\"Blues\").generate(depressive_words)\n",
    "plt.figure(figsize = (10, 8), facecolor = 'k')\n",
    "plt.imshow(depressive_wc)\n",
    "plt.axis('off')\n",
    "plt.tight_layout(pad = 0)\n",
    "plt.show()"
   ]
  },
  {
   "cell_type": "code",
   "execution_count": null,
   "id": "fec56d3b",
   "metadata": {},
   "outputs": [],
   "source": [
    "positive_words = ' '.join(list(df[df['label'] == 0]['message']))\n",
    "positive_wc = WordCloud(width = 512,height = 512, collocations=False, colormap=\"Blues\").generate(positive_words)\n",
    "plt.figure(figsize = (10, 8), facecolor = 'k')\n",
    "plt.imshow(positive_wc)\n",
    "plt.axis('off'), \n",
    "plt.tight_layout(pad = 0)\n",
    "plt.show()"
   ]
  },
  {
   "cell_type": "markdown",
   "id": "248c62a7",
   "metadata": {},
   "source": [
    "## Splitting training:testing into 75:25 ratio"
   ]
  },
  {
   "cell_type": "code",
   "execution_count": null,
   "id": "e8cea174",
   "metadata": {},
   "outputs": [],
   "source": [
    "from sklearn.model_selection import train_test_split\n",
    "X_train, X_test, y_train, y_test = train_test_split(corpus,df['label'],test_size=0.25,random_state=42)"
   ]
  },
  {
   "cell_type": "markdown",
   "id": "02611340",
   "metadata": {},
   "source": [
    "## Applying TfidfVectorizer for feature Extraction "
   ]
  },
  {
   "cell_type": "code",
   "execution_count": null,
   "id": "d10cf3b9",
   "metadata": {},
   "outputs": [],
   "source": [
    "from sklearn.feature_extraction.text import TfidfVectorizer\n",
    "vectorizer = TfidfVectorizer( ngram_range=(1,3), stop_words='english',max_features=15000)\n",
    "X_train_vect = vectorizer.fit_transform(X_train)\n",
    "X_test_vect = vectorizer.transform(X_test)"
   ]
  },
  {
   "cell_type": "code",
   "execution_count": null,
   "id": "563adc18",
   "metadata": {},
   "outputs": [],
   "source": [
    "X_train_vect.shape"
   ]
  },
  {
   "cell_type": "code",
   "execution_count": null,
   "id": "f7deb46a",
   "metadata": {},
   "outputs": [],
   "source": [
    "from imblearn import under_sampling \n",
    "from imblearn import over_sampling\n",
    "from imblearn.over_sampling import SMOTE\n",
    "x_resample, y_resample = SMOTE().fit_resample(X_train_vect, y_train)\n",
    "x_test_resample, y_test_resample = SMOTE().fit_resample(X_test_vect, y_test)\n",
    "# lets print the shape of x and y after resampling it\n",
    "print(x_resample.shape)\n",
    "print(y_resample.shape)"
   ]
  },
  {
   "cell_type": "code",
   "execution_count": null,
   "id": "93e9d951",
   "metadata": {},
   "outputs": [],
   "source": [
    "list(y_resample).count(1),list(y_resample).count(0)"
   ]
  },
  {
   "cell_type": "code",
   "execution_count": null,
   "id": "ee2fa392",
   "metadata": {},
   "outputs": [],
   "source": [
    "sns.countplot(y_resample) "
   ]
  },
  {
   "cell_type": "markdown",
   "id": "50bbf130",
   "metadata": {},
   "source": [
    "### APPLYING LOGISTIC REGRESSION MODEL "
   ]
  },
  {
   "cell_type": "code",
   "execution_count": null,
   "id": "ddea4e3c",
   "metadata": {},
   "outputs": [],
   "source": [
    "from sklearn.linear_model import LogisticRegression\n",
    "clf = LogisticRegression(solver='lbfgs')\n",
    "clf.fit(x_resample,y_resample)"
   ]
  },
  {
   "cell_type": "markdown",
   "id": "04117d21",
   "metadata": {},
   "source": [
    "### CLASSIFICATION REPORT FOR CHECKING THE ACCURACY"
   ]
  },
  {
   "cell_type": "code",
   "execution_count": null,
   "id": "2a9b2911",
   "metadata": {},
   "outputs": [],
   "source": [
    "from sklearn.metrics import accuracy_score, classification_report\n",
    "y_pred = clf.predict(x_test_resample)\n",
    "print(accuracy_score(y_test_resample,y_pred))\n",
    "print(classification_report(y_test_resample,y_pred))"
   ]
  },
  {
   "cell_type": "code",
   "execution_count": null,
   "id": "0a02ac07",
   "metadata": {},
   "outputs": [],
   "source": [
    "print(\"on our model:\",list(y_pred).count(1)/len(y_pred))\n",
    "print(\"on actual:\",list(y_test_resample).count(1)/len(y_test_resample))"
   ]
  },
  {
   "cell_type": "markdown",
   "id": "d7566c27",
   "metadata": {},
   "source": [
    "### APPLYING NAIVE BAYES MULTINOMIALNB MODEL "
   ]
  },
  {
   "cell_type": "code",
   "execution_count": null,
   "id": "ba575125",
   "metadata": {},
   "outputs": [],
   "source": [
    "from sklearn.naive_bayes import MultinomialNB\n",
    "mnb = MultinomialNB()\n",
    "mnb.fit(x_resample,y_resample)"
   ]
  },
  {
   "cell_type": "markdown",
   "id": "ea4c08f1",
   "metadata": {},
   "source": [
    "### CLASSIFICATION REPORT FOR CHECKING THE ACCURACY OF NAIVE BAYES MODEL"
   ]
  },
  {
   "cell_type": "code",
   "execution_count": null,
   "id": "920c1331",
   "metadata": {},
   "outputs": [],
   "source": [
    "y_pred = mnb.predict(x_test_resample)\n",
    "print(accuracy_score(y_test_resample,y_pred))\n",
    "print(classification_report(y_test_resample,y_pred))"
   ]
  },
  {
   "cell_type": "code",
   "execution_count": null,
   "id": "3f661a6e",
   "metadata": {},
   "outputs": [],
   "source": [
    "print(\"on our model:\",list(y_pred).count(1)/len(y_pred))\n",
    "print(\"on actual:\",list(y_test_resample).count(1)/len(y_test_resample))"
   ]
  },
  {
   "cell_type": "markdown",
   "id": "2afc971a",
   "metadata": {},
   "source": [
    "## Decision Tree classifier"
   ]
  },
  {
   "cell_type": "code",
   "execution_count": null,
   "id": "548efc44",
   "metadata": {},
   "outputs": [],
   "source": [
    "from sklearn.tree import DecisionTreeClassifier"
   ]
  },
  {
   "cell_type": "code",
   "execution_count": null,
   "id": "30aaa1e7",
   "metadata": {},
   "outputs": [],
   "source": [
    "clf = DecisionTreeClassifier()\n",
    "clf.fit(x_resample,y_resample)"
   ]
  },
  {
   "cell_type": "code",
   "execution_count": null,
   "id": "1c9e16eb",
   "metadata": {},
   "outputs": [],
   "source": [
    "y_pred = clf.predict(x_test_resample)\n",
    "print(accuracy_score(y_test_resample,y_pred))\n",
    "print(classification_report(y_test_resample,y_pred))"
   ]
  },
  {
   "cell_type": "code",
   "execution_count": null,
   "id": "40dd3b38",
   "metadata": {},
   "outputs": [],
   "source": [
    "print(\"on our model:\",list(y_pred).count(1)/len(y_pred))\n",
    "print(\"on actual:\",list(y_test_resample).count(1)/len(y_test_resample))"
   ]
  },
  {
   "cell_type": "markdown",
   "id": "27b34a54",
   "metadata": {},
   "source": [
    "## Random Forest Classifier "
   ]
  },
  {
   "cell_type": "code",
   "execution_count": null,
   "id": "8f6d8bfd",
   "metadata": {},
   "outputs": [],
   "source": [
    "from sklearn.ensemble import RandomForestClassifier\n",
    "clf = RandomForestClassifier()\n",
    "clf.fit(x_resample,y_resample)"
   ]
  },
  {
   "cell_type": "code",
   "execution_count": null,
   "id": "8d984a84",
   "metadata": {
    "scrolled": true
   },
   "outputs": [],
   "source": [
    "y_pred = clf.predict(x_test_resample)\n",
    "print(accuracy_score(y_test_resample,y_pred))\n",
    "print(classification_report(y_test_resample,y_pred))"
   ]
  },
  {
   "cell_type": "code",
   "execution_count": null,
   "id": "f1ca0595",
   "metadata": {},
   "outputs": [],
   "source": [
    "print(\"on our model:\",list(y_pred).count(1)/len(y_pred))\n",
    "print(\"on actual:\",list(y_test_resample).count(1)/len(y_test_resample))"
   ]
  },
  {
   "cell_type": "markdown",
   "id": "9b79977a",
   "metadata": {},
   "source": [
    "### FOR TAKING USER INPUT AND PREDICTION"
   ]
  },
  {
   "cell_type": "code",
   "execution_count": null,
   "id": "d51969d7",
   "metadata": {},
   "outputs": [],
   "source": [
    "def preprocess(data):\n",
    "    #preprocess\n",
    "    a = re.sub('[^a-zA-Z]',' ',data)\n",
    "    a = a.lower()\n",
    "    a = a.split()\n",
    "    a = [wo.lemmatize(word) for word in a ]\n",
    "    a = ' '.join(a)  \n",
    "    return a"
   ]
  },
  {
   "cell_type": "code",
   "execution_count": null,
   "id": "eef326a9",
   "metadata": {},
   "outputs": [],
   "source": [
    "import re\n",
    "strr = input('Enter Your Message: ')\n",
    "print(\"-------------------------------\")\n",
    "examples = strr\n",
    "\n",
    "a = preprocess(examples)\n",
    "\n",
    "example_counts = vectorizer.transform([a])\n",
    "prediction =mnb.predict(example_counts)\n",
    "prediction[0]\n",
    "\n",
    "if prediction[0]==0:\n",
    "    print('Positive')\n",
    "elif prediction[0]==1:\n",
    "    print('Depressive')"
   ]
  },
  {
   "cell_type": "code",
   "execution_count": null,
   "id": "7f947b87",
   "metadata": {},
   "outputs": [],
   "source": [
    "import pickle\n",
    "filename = 'vectorizer.pkl'\n",
    "pickle.dump(vectorizer, open(filename, 'wb'))"
   ]
  },
  {
   "cell_type": "code",
   "execution_count": null,
   "id": "54ed9d50",
   "metadata": {},
   "outputs": [],
   "source": [
    "filename = 'prediction.pkl'\n",
    "pickle.dump(mnb, open(filename, 'wb'))"
   ]
  },
  {
   "cell_type": "code",
   "execution_count": null,
   "id": "665886af",
   "metadata": {},
   "outputs": [],
   "source": []
  }
 ],
 "metadata": {
  "kernelspec": {
   "display_name": "Python 3 (ipykernel)",
   "language": "python",
   "name": "python3"
  },
  "language_info": {
   "codemirror_mode": {
    "name": "ipython",
    "version": 3
   },
   "file_extension": ".py",
   "mimetype": "text/x-python",
   "name": "python",
   "nbconvert_exporter": "python",
   "pygments_lexer": "ipython3",
   "version": "3.9.10"
  },
  "vscode": {
   "interpreter": {
    "hash": "7812ea015bdcee6f23a998adcdd2ef97c151c0c241b7b7070987d9313e41299d"
   }
  }
 },
 "nbformat": 4,
 "nbformat_minor": 5
}
